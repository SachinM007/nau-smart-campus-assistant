{
 "cells": [
  {
   "cell_type": "code",
   "execution_count": 3,
   "id": "808e8800",
   "metadata": {},
   "outputs": [],
   "source": [
    "from langchain_classic.document_loaders import WebBaseLoader"
   ]
  },
  {
   "cell_type": "code",
   "execution_count": 4,
   "id": "ff5534f3",
   "metadata": {},
   "outputs": [
    {
     "data": {
      "text/plain": [
       "[Document(metadata={'source': 'https://catalog.nau.edu/Catalog/details?plan=CSMS', 'title': '\\r\\n\\t\\tComputer Science, Master of Science | Academic Catalog | Northern Arizona University\\r\\n\\t', 'description': '', 'language': 'en-US'}, page_content='\\n\\n\\n\\n \\n\\n\\n\\n\\n\\n\\n\\n\\n\\n\\n\\n\\n\\n\\n\\n\\n\\n\\n\\n\\r\\n\\t\\tComputer Science, Master of Science | Academic Catalog | Northern Arizona University\\r\\n\\t\\n\\n\\n\\n\\n\\n\\n\\n\\n\\n\\n2025-2026\\n\\n\\r\\n\\t\\t\\t\\t\\t\\t\\tComputer Science, Master of Science\\nSchool of Informatics, Computing and Cyber Systems\\nSteve Sanghi College of Engineering\\n\\nComputer scientists develop complex software and computer systems that are central to contemporary science, engineering, industry, and business. The MS\\xa0in Computer Science enables students to either enter the computer science workforce or continue on to a doctoral program of study.\\xa0Individual and team-based assignments will enable students to build mastery of important computer science skills and their practical applications in areas that include computer networks, computer graphics and visualization, high-performance computing, cybersecurity, machine learning and data science, software engineering, software design and architecture, and software validation and verification. In addition, you will have the opportunity to engage in critical application areas of computer science in areas that include biology, ecology, and astronomy.\\xa0The non-thesis option of this program allows students to complete their degree through coursework, while the thesis option is focused on engagement with research projects under the mentorship of a faculty member and culminating in the preparation and defense of a thesis.\\xa0The program is strengthened through broad collaborations with a variety of other academic programs, government agencies, and private research organizations, including the departments of Biological Sciences and Astronomy and Planetary Science, Center for Bioengineering Innovation, Pathogen and Microbiome Institute, Center for Ecosystem Science and Society, Merriam-Powell Center for Environmental Research, and U.S. Geological Survey.\\xa0\\n\\n\\n\\n\\n\\n\\n\\n\\r\\n\\t\\t\\t\\t\\t\\t\\t\\t\\t\\t\\t\\tUniversity Requirements\\n\\n\\n\\n\\n\\n\\n\\n\\nTo receive a master\\'s degree at Northern Arizona University, you must complete a planned group of courses from one or more subject areas, consisting of at least 30 units of graduate-level courses. Many master\\'s degree programs require more than 30 units.You must additionally complete:All requirements for your specific academic plan(s). This may include a thesis.All graduate work with a cumulative grade point average of at least 3.0.All work toward the master\\'s degree must be completed within six consecutive years. The six years begins with the semester and year of admission to the program.\\xa0Individual degree programs may exceed the baseline University Policy for a master\\'s degree. The program-specific requirements are provided on the Details tab below.Read the full policy here.\\n\\n\\n\\n\\n\\n\\n\\r\\n\\t\\t\\t\\t\\t\\t\\t\\t\\t\\t\\t\\tOverview\\n\\n\\n\\nIn addition to University Requirements:\\n \\t\\tComplete individual plan requirements.\\n\\n\\n\\nMinimum Units for Completion\\n30\\n\\n\\n\\nAdditional Admission Requirements\\nIndividual program admission requirements over and above admission to NAU are required.\\n\\n\\nThesis\\nThesis may be required by chosen emphasis or offered as an option.\\n\\n\\nOral Defense\\nOral Defense may be required by chosen emphasis or offered as an option.\\n\\n\\nResearch\\nIndividualized research may be required by chosen emphasis or offered as an option.\\n\\n\\nProgression Plan Link\\nView Program of Study\\n\\n\\nAccelerated Undergraduate/Graduate Plan\\nOptional\\n\\n\\nPurpose StatementThis MS\\xa0in Computer Science will prepare you to either enter the computer science workforce or continue on to a doctoral program of study, building core skills that are widely applicable to many areas of science, engineering, industry, business, and research.This degree is flexible and allows students to develop a customized program of study that is highly aligned with their professional or research interests. Available coursework allows students to study in many areas of computer science, including computer networking, cybersecurity, artificial intelligence, high-performance computing, and software architecture and testing. While all students will be expected to contribute to a substantive computer science development or research project under the mentorship of a faculty member during the course of their study, thesis option students will have additional opportunities to engage in computer science research and scholarship and prepare a thesis.This program is designed for students with strong preparation in programming and computer science, gained through successful completion of an undergraduate computer science program or other professional experience. The non-thesis option of the program is designed for students seeking professional preparation, while the thesis option is particularly appropriate for students for considering further graduate study in a doctoral program.As a graduate, you will be prepared to contribute in a wide variety of core computer science areas in both academia or professional practice, including computer networks, computer graphics and visualization, high-performance computing, cybersecurity, machine learning and data science, software engineering, software design and architecture, and software validation and verification. In addition, you will have the opportunity to engage in critical application areas of computer science in areas that include biology, ecology, and astronomy.Student Learning OutcomesGraduates of this program will demonstrate the following competencies and program learning outcomes: Identify, explain, and synthesize fundamental concepts of computer science, including computer networking, cybersecurity, high-performance computing, and software engineering. Analyze and critically distill scientific literature to identify computer science theories and development and research methods appropriate to relevant science and engineering problems and research areas. Apply computer science theories and development and research methods to formulate, develop, and assess computer system solutions to relevant science and engineering problems and research areas. Compose and engage in highly effective written and oral communication in computer science areas.\\n\\n\\n\\n\\n\\n\\r\\n\\t\\t\\t\\t\\t\\t\\t\\t\\t\\t\\t\\tDetails\\n\\n\\n\\nGraduate Admission Information\\n\\n\\n\\n\\n\\nThe NAU graduate online application is required for all programs. Admission to many graduate programs is on a competitive basis, and programs may have higher standards than those established by the Office of Graduate and Professional Studies.Admission requirements include the following: Transcripts. Undergraduate degree from a regionally accredited institution with a 3.0 GPA on a 4.0 scale (\"A\" = 4.0), or the equivalent.Visit the NAU Graduate Admissions website for additional information about graduate school application deadlines, eligibility for study, and admissions policies.Ready to apply? Begin your application now.International applicants have additional admission requirements. Please see the  International Graduate Admissions Policy.\\n\\nAdditional Admission Requirements\\n\\n\\n\\n\\n\\nIndividual program admission requirements over and above admission to NAU are required.\\n\\n\\n\\nA Bachelor degree in Computer Science or a related field.\\n\\n\\n\\nComputer Science Milestone. Students must pass the Initial Skills Inventory Exam, or complete CS 500 and CS 501 before enrolling in graduate-level CS courses. See the department website for details.\\n\\n\\n\\nEssay/Letter of Intent/Personal Statement*\\n\\n\\n\\nRecommendation(s)/Reference(s)*\\n\\n\\n\\n*See the application for details.\\n\\nMaster\\'s Requirements\\n\\n\\n\\n\\n\\nThis Master\\'s degree requires 30 units distributed as follows: Computer Science Coursework:\\xa03 units Non-Thesis or Thesis Option: 27 units\\t Non-Thesis Option Thesis Option Thesis Option with Research  Take the following 30 units:\\n\\n\\n\\nStudents completing a non-thesis, coursework, project, track, internship, track, or exam option must complete 24 units of formal letter-graded coursework.\\n\\n\\n\\n Students completing a thesis are required to complete 18 units of formal letter-graded coursework.\\n\\n\\n\\nComputer Science Coursework (3 units) Select one from the following (3 units):\\t CS 552 INF 503  \\n\\n\\n\\nNon-Thesis or Thesis Option - Select one (27 units)\\n\\n\\n\\n\\n\\nNon-Thesis Option (27 units) Computer Science Electives (27 units)\\t Graduate-level coursework with at least 15 of the units in CS courses except CS 500 AND CS 501. Students may use a maximum of two courses, up to 6 units, of CS prefixed 400-level courses to satisfy a portion of the elective requirements.  \\n\\n\\n\\n\\n\\n\\n\\nStudents are responsible for ensuring that they meet all course prerequisites.\\n\\n\\n\\n\\n\\n\\n\\nThesis Options (27 units)Under the direction of a computer science research advisor select from the following thesis options.ThesisCS 699 (12 units)Thesis with ResearchCS 685 (3 units)CS 699 (9 units)Computer Science Electives (15 units)Graduate-level coursework with at least 9 of the 15 units in CS courses except CS 500 AND CS 501.\\xa0No 400-level coursework may apply toward this requirement.Thesis option students are responsible for selecting a research advisor who will act as their thesis committee chair as well as other members of their thesis committee before completing 9 units of coursework in the degree program.\\n\\n\\n\\n\\n\\n\\n\\nThesis option students must successfully complete a thesis and thesis final defense and are responsible for following all applicable NAU conditions as stated in the Requirements for Theses and Dissertations Policy (100806).\\n\\n\\n\\n\\n\\n\\n\\nStudents are responsible for ensuring that they meet all course prerequisites.\\n\\n\\n\\n\\n\\nStudents enrolled in this plan may not enroll in or pursue the following due to the number of overlapping units:\\n\\n\\n\\nElectrical Engineering, MSInformatics, MS\\n\\nAccelerated Bachelor\\'s to Master\\'s Program\\n\\n\\n\\n\\n\\n\\n\\nThis program is available as an Accelerated Undergraduate/Graduate Plan wherein a student may start a master\\'s degree while simultaneously completing their bachelor\\'s degree.\\n\\n\\n\\n\\n\\n\\n\\nStudents enrolled at the Flagstaff campus for both undergraduate and graduate programs are eligible to complete the Bachelor of Science in Computer Engineering and start a Master of Science in Computer Science - Non-thesis at NAU.A total of 12 units will be shared between the plans selected from:400-level CS coursework (6 units)500-level CS coursework (6 units)Excluding CS 500 and CS 501OR\\n\\n\\n\\n\\n\\n\\n\\nStudents enrolled at the Flagstaff campus for both undergraduate and graduate programs are eligible to complete the Bachelor of Science in Computer Science and start a Master of Science in Computer Science - Non-thesis at NAU.A total of 12 units will be shared between the plans selected from:400-level CS coursework (6 units)500-level CS coursework (6 units)Excluding CS 500 and CS 501OR\\n\\n\\n\\n\\n\\n\\n\\nStudents enrolled at the Flagstaff campus for both undergraduate and graduate programs are eligible to complete the Bachelor of Science in Immersive Media and Games and start a Master of Science in Computer Science - Non-thesis at NAU.A total of 12 units will be shared between the plans selected from:400-level CS coursework (6 units)500-level CS coursework (6 units)Excluding CS 500 and CS 501OR\\n\\n\\n\\n\\n\\n\\n\\nStudents enrolled at the Flagstaff campus for both undergraduate and graduate programs are eligible to complete the Bachelor of Science in Software Engineering and start a Master of Science in Computer Science - Non-thesis at NAU.A total of 12 units will be shared between the plans selected from:400-level CS coursework (6 units)500-level CS coursework (6 units)Excluding CS 500 and CS 501\\n\\n\\n\\n\\n\\n\\n\\nStudents must apply to the master\\'s program by the graduate program\\'s application deadline, meet all admissions requirements listed in the policy  Accelerated Bachelor\\'s to Master\\'s Programs, as well as the admissions requirements for the specified master\\'s plan to be considered for admission. Admission to programs is competitive and qualified applicants may be denied because of limits on the number of students admitted each year.Be sure to speak with the Master\\'s Program Director/Coordinator regarding your interest in the accelerated plan.\\n\\n\\n\\n\\n\\n\\n\\nStudents accepted into one of the Accelerated Programs should complete the appropriate requirements below.\\n\\n\\n\\n\\n\\nStudents in the Accelerated Bachelor of Science in Computer Engineering, Bachelor of Science in Immersive Media and Games, or Bachelor of Science in Software Engineering to Master\\'s program complete the following requirements:\\n\\n\\n\\n\\n\\nMaster\\'s Requirements\\xa0This Master\\'s degree requires 30 units distributed as follows: Computer Science Coursework:\\xa03 units Non-Thesis Option: 27 unitsTake the following 30 units:\\n\\n\\n\\n\\n\\n Students must complete 24 units of formal letter-graded coursework.\\n\\n\\n\\n\\n\\nComputer Science Coursework (3 units) Select one from the following (3 units):\\t CS 552 INF 503  \\n\\n\\n\\n\\n\\n\\n\\nNon-Thesis Option (27 units) Computer Science Electives (27 units)\\t 400-level CS or IMG coursework (6 units) Graduate-level coursework with at least 15 of the units in CS courses except CS 500 AND CS 501. (21 units)  \\n\\n\\n\\n\\n\\nStudents enrolled in this plan may not enroll in or pursue the following due to the number of overlapping units:\\n\\n\\n\\nElectrical Engineering, MSInformatics, MS\\n\\n\\n\\nStudents in the Accelerated Bachelor of Science in Computer Science to Master\\'s program complete the following requirements:\\n\\n\\n\\n\\n\\nMaster\\'s Requirements\\xa0This Master\\'s degree requires 30 units distributed as follows: Computer Science Coursework:\\xa03 units Non-Thesis Option: 27 unitsTake the following 30 units:\\n\\n\\n\\n\\n\\n\\n\\nStudents must complete 24 units of formal letter-graded coursework.\\n\\n\\n\\n\\n\\n\\n\\nComputer Science Coursework (3 units) Select one from the following (3 units):\\t CS 552 INF 503  \\n\\n\\n\\n\\n\\n\\n\\nNon-Thesis Option (27 units) Computer Science Electives (27 units)\\t Graduate-level coursework with at least 15 of the units in CS courses except CS 500 AND CS 501. Students may use a maximum of two courses, up to 6 units, of CS prefixed 400-level courses to satisfy a portion of the elective requirements.  \\n\\n\\n\\n\\n\\n\\n\\nStudents are responsible for ensuring that they meet all course prerequisites.\\n\\n\\n\\n\\n\\nStudents enrolled in this plan may not enroll in or pursue the following due to the number of overlapping units:Electrical Engineering, MSInformatics, MS\\n\\nAdditional Information\\n\\n\\n\\n\\n\\nSome courses may have prerequisites. For prerequisite information, click on the course or see your advisor.\\n\\n\\n\\r\\n\\t\\t\\t\\t\\t\\t\\t\\t\\t\\t\\tProgram Fee Information\\n\\n\\nProgram fees are established by the Arizona Board of Regents (ABOR). A program fee has been approved for this program. See program fee details. Program fees are subject to change and updated July 1 for the next academic year.\\n\\n\\n\\n\\n\\n\\n\\r\\n\\t\\t\\t\\t\\t\\t\\t\\t\\t\\t\\t\\tCampus Availability\\n\\n\\n\\nFlagstaff\\n\\n\\n\\n\\n\\n\\n\\n\\n\\n\\n\\n\\n\\n\\n\\n\\n')]"
      ]
     },
     "execution_count": 4,
     "metadata": {},
     "output_type": "execute_result"
    }
   ],
   "source": [
    "urls = [\n",
    "    \"https://catalog.nau.edu/Catalog/details?plan=CSMS\"\n",
    "]\n",
    "\n",
    "docs = [WebBaseLoader(url).load()[0] for url in urls]\n",
    "docs"
   ]
  },
  {
   "cell_type": "code",
   "execution_count": 30,
   "id": "d57c99aa",
   "metadata": {},
   "outputs": [
    {
     "data": {
      "text/plain": [
       "[Document(metadata={'source': 'https://catalog.nau.edu/Catalog/details?plan=CSMS', 'title': '\\r\\n\\t\\tComputer Science, Master of Science | Academic Catalog | Northern Arizona University\\r\\n\\t', 'description': '', 'language': 'en-US'}, page_content='Computer Science, Master of Science | Academic Catalog | Northern Arizona University\\r\\n\\t\\n\\n\\n\\n\\n\\n\\n\\n\\n\\n\\n2025-2026\\n\\n\\r\\n\\t\\t\\t\\t\\t\\t\\tComputer Science, Master of Science\\nSchool of Informatics, Computing and Cyber Systems\\nSteve Sanghi College of Engineering'),\n",
       " Document(metadata={'source': 'https://catalog.nau.edu/Catalog/details?plan=CSMS', 'title': '\\r\\n\\t\\tComputer Science, Master of Science | Academic Catalog | Northern Arizona University\\r\\n\\t', 'description': '', 'language': 'en-US'}, page_content='Computer scientists develop complex software and computer systems that are central to contemporary science, engineering, industry, and business. The MS\\xa0in Computer Science enables students to either enter the computer science workforce or continue on to a doctoral program of study.\\xa0Individual and team-based assignments will enable students to build mastery of important computer science skills and their practical applications in areas that include computer networks, computer graphics and visualization, high-performance computing, cybersecurity, machine learning and data science, software engineering, software design and architecture, and software validation and verification. In addition, you will have the opportunity to engage in critical application areas of computer science in areas that include biology, ecology, and astronomy.\\xa0The non-thesis option of this program allows students to complete their degree through coursework, while the thesis option is focused on engagement with'),\n",
       " Document(metadata={'source': 'https://catalog.nau.edu/Catalog/details?plan=CSMS', 'title': '\\r\\n\\t\\tComputer Science, Master of Science | Academic Catalog | Northern Arizona University\\r\\n\\t', 'description': '', 'language': 'en-US'}, page_content='that include biology, ecology, and astronomy.\\xa0The non-thesis option of this program allows students to complete their degree through coursework, while the thesis option is focused on engagement with research projects under the mentorship of a faculty member and culminating in the preparation and defense of a thesis.\\xa0The program is strengthened through broad collaborations with a variety of other academic programs, government agencies, and private research organizations, including the departments of Biological Sciences and Astronomy and Planetary Science, Center for Bioengineering Innovation, Pathogen and Microbiome Institute, Center for Ecosystem Science and Society, Merriam-Powell Center for Environmental Research, and U.S. Geological Survey.'),\n",
       " Document(metadata={'source': 'https://catalog.nau.edu/Catalog/details?plan=CSMS', 'title': '\\r\\n\\t\\tComputer Science, Master of Science | Academic Catalog | Northern Arizona University\\r\\n\\t', 'description': '', 'language': 'en-US'}, page_content=\"University Requirements\\n\\n\\n\\n\\n\\n\\n\\n\\nTo receive a master's degree at Northern Arizona University, you must complete a planned group of courses from one or more subject areas, consisting of at least 30 units of graduate-level courses. Many master's degree programs require more than 30 units.You must additionally complete:All requirements for your specific academic plan(s). This may include a thesis.All graduate work with a cumulative grade point average of at least 3.0.All work toward the master's degree must be completed within six consecutive years. The six years begins with the semester and year of admission to the program.\\xa0Individual degree programs may exceed the baseline University Policy for a master's degree. The program-specific requirements are provided on the Details tab below.Read the full policy here.\\n\\n\\n\\n\\n\\n\\n\\r\\n\\t\\t\\t\\t\\t\\t\\t\\t\\t\\t\\t\\tOverview\\n\\n\\n\\nIn addition to University Requirements:\\n \\t\\tComplete individual plan requirements.\\n\\n\\n\\nMinimum Units for Completion\\n30\"),\n",
       " Document(metadata={'source': 'https://catalog.nau.edu/Catalog/details?plan=CSMS', 'title': '\\r\\n\\t\\tComputer Science, Master of Science | Academic Catalog | Northern Arizona University\\r\\n\\t', 'description': '', 'language': 'en-US'}, page_content='Overview\\n\\n\\n\\nIn addition to University Requirements:\\n \\t\\tComplete individual plan requirements.\\n\\n\\n\\nMinimum Units for Completion\\n30\\n\\n\\n\\nAdditional Admission Requirements\\nIndividual program admission requirements over and above admission to NAU are required.\\n\\n\\nThesis\\nThesis may be required by chosen emphasis or offered as an option.\\n\\n\\nOral Defense\\nOral Defense may be required by chosen emphasis or offered as an option.\\n\\n\\nResearch\\nIndividualized research may be required by chosen emphasis or offered as an option.\\n\\n\\nProgression Plan Link\\nView Program of Study\\n\\n\\nAccelerated Undergraduate/Graduate Plan\\nOptional'),\n",
       " Document(metadata={'source': 'https://catalog.nau.edu/Catalog/details?plan=CSMS', 'title': '\\r\\n\\t\\tComputer Science, Master of Science | Academic Catalog | Northern Arizona University\\r\\n\\t', 'description': '', 'language': 'en-US'}, page_content='Purpose StatementThis MS\\xa0in Computer Science will prepare you to either enter the computer science workforce or continue on to a doctoral program of study, building core skills that are widely applicable to many areas of science, engineering, industry, business, and research.This degree is flexible and allows students to develop a customized program of study that is highly aligned with their professional or research interests. Available coursework allows students to study in many areas of computer science, including computer networking, cybersecurity, artificial intelligence, high-performance computing, and software architecture and testing. While all students will be expected to contribute to a substantive computer science development or research project under the mentorship of a faculty member during the course of their study, thesis option students will have additional opportunities to engage in computer science research and scholarship and prepare a thesis.This program is designed'),\n",
       " Document(metadata={'source': 'https://catalog.nau.edu/Catalog/details?plan=CSMS', 'title': '\\r\\n\\t\\tComputer Science, Master of Science | Academic Catalog | Northern Arizona University\\r\\n\\t', 'description': '', 'language': 'en-US'}, page_content='member during the course of their study, thesis option students will have additional opportunities to engage in computer science research and scholarship and prepare a thesis.This program is designed for students with strong preparation in programming and computer science, gained through successful completion of an undergraduate computer science program or other professional experience. The non-thesis option of the program is designed for students seeking professional preparation, while the thesis option is particularly appropriate for students for considering further graduate study in a doctoral program.As a graduate, you will be prepared to contribute in a wide variety of core computer science areas in both academia or professional practice, including computer networks, computer graphics and visualization, high-performance computing, cybersecurity, machine learning and data science, software engineering, software design and architecture, and software validation and verification. In'),\n",
       " Document(metadata={'source': 'https://catalog.nau.edu/Catalog/details?plan=CSMS', 'title': '\\r\\n\\t\\tComputer Science, Master of Science | Academic Catalog | Northern Arizona University\\r\\n\\t', 'description': '', 'language': 'en-US'}, page_content='and visualization, high-performance computing, cybersecurity, machine learning and data science, software engineering, software design and architecture, and software validation and verification. In addition, you will have the opportunity to engage in critical application areas of computer science in areas that include biology, ecology, and astronomy.Student Learning OutcomesGraduates of this program will demonstrate the following competencies and program learning outcomes: Identify, explain, and synthesize fundamental concepts of computer science, including computer networking, cybersecurity, high-performance computing, and software engineering. Analyze and critically distill scientific literature to identify computer science theories and development and research methods appropriate to relevant science and engineering problems and research areas. Apply computer science theories and development and research methods to formulate, develop, and assess computer system solutions to relevant'),\n",
       " Document(metadata={'source': 'https://catalog.nau.edu/Catalog/details?plan=CSMS', 'title': '\\r\\n\\t\\tComputer Science, Master of Science | Academic Catalog | Northern Arizona University\\r\\n\\t', 'description': '', 'language': 'en-US'}, page_content='science and engineering problems and research areas. Apply computer science theories and development and research methods to formulate, develop, and assess computer system solutions to relevant science and engineering problems and research areas. Compose and engage in highly effective written and oral communication in computer science areas.'),\n",
       " Document(metadata={'source': 'https://catalog.nau.edu/Catalog/details?plan=CSMS', 'title': '\\r\\n\\t\\tComputer Science, Master of Science | Academic Catalog | Northern Arizona University\\r\\n\\t', 'description': '', 'language': 'en-US'}, page_content='Details\\n\\n\\n\\nGraduate Admission Information\\n\\n\\n\\n\\n\\nThe NAU graduate online application is required for all programs. Admission to many graduate programs is on a competitive basis, and programs may have higher standards than those established by the Office of Graduate and Professional Studies.Admission requirements include the following: Transcripts. Undergraduate degree from a regionally accredited institution with a 3.0 GPA on a 4.0 scale (\"A\" = 4.0), or the equivalent.Visit the NAU Graduate Admissions website for additional information about graduate school application deadlines, eligibility for study, and admissions policies.Ready to apply? Begin your application now.International applicants have additional admission requirements. Please see the  International Graduate Admissions Policy.\\n\\nAdditional Admission Requirements\\n\\n\\n\\n\\n\\nIndividual program admission requirements over and above admission to NAU are required.'),\n",
       " Document(metadata={'source': 'https://catalog.nau.edu/Catalog/details?plan=CSMS', 'title': '\\r\\n\\t\\tComputer Science, Master of Science | Academic Catalog | Northern Arizona University\\r\\n\\t', 'description': '', 'language': 'en-US'}, page_content=\"Additional Admission Requirements\\n\\n\\n\\n\\n\\nIndividual program admission requirements over and above admission to NAU are required.\\n\\n\\n\\nA Bachelor degree in Computer Science or a related field.\\n\\n\\n\\nComputer Science Milestone. Students must pass the Initial Skills Inventory Exam, or complete CS 500 and CS 501 before enrolling in graduate-level CS courses. See the department website for details.\\n\\n\\n\\nEssay/Letter of Intent/Personal Statement*\\n\\n\\n\\nRecommendation(s)/Reference(s)*\\n\\n\\n\\n*See the application for details.\\n\\nMaster's Requirements\\n\\n\\n\\n\\n\\nThis Master's degree requires 30 units distributed as follows: Computer Science Coursework:\\xa03 units Non-Thesis or Thesis Option: 27 units\\t Non-Thesis Option Thesis Option Thesis Option with Research  Take the following 30 units:\\n\\n\\n\\nStudents completing a non-thesis, coursework, project, track, internship, track, or exam option must complete 24 units of formal letter-graded coursework.\"),\n",
       " Document(metadata={'source': 'https://catalog.nau.edu/Catalog/details?plan=CSMS', 'title': '\\r\\n\\t\\tComputer Science, Master of Science | Academic Catalog | Northern Arizona University\\r\\n\\t', 'description': '', 'language': 'en-US'}, page_content='Students completing a non-thesis, coursework, project, track, internship, track, or exam option must complete 24 units of formal letter-graded coursework.\\n\\n\\n\\n Students completing a thesis are required to complete 18 units of formal letter-graded coursework.\\n\\n\\n\\nComputer Science Coursework (3 units) Select one from the following (3 units):\\t CS 552 INF 503  \\n\\n\\n\\nNon-Thesis or Thesis Option - Select one (27 units)\\n\\n\\n\\n\\n\\nNon-Thesis Option (27 units) Computer Science Electives (27 units)\\t Graduate-level coursework with at least 15 of the units in CS courses except CS 500 AND CS 501. Students may use a maximum of two courses, up to 6 units, of CS prefixed 400-level courses to satisfy a portion of the elective requirements.  \\n\\n\\n\\n\\n\\n\\n\\nStudents are responsible for ensuring that they meet all course prerequisites.'),\n",
       " Document(metadata={'source': 'https://catalog.nau.edu/Catalog/details?plan=CSMS', 'title': '\\r\\n\\t\\tComputer Science, Master of Science | Academic Catalog | Northern Arizona University\\r\\n\\t', 'description': '', 'language': 'en-US'}, page_content='Students are responsible for ensuring that they meet all course prerequisites.\\n\\n\\n\\n\\n\\n\\n\\nThesis Options (27 units)Under the direction of a computer science research advisor select from the following thesis options.ThesisCS 699 (12 units)Thesis with ResearchCS 685 (3 units)CS 699 (9 units)Computer Science Electives (15 units)Graduate-level coursework with at least 9 of the 15 units in CS courses except CS 500 AND CS 501.\\xa0No 400-level coursework may apply toward this requirement.Thesis option students are responsible for selecting a research advisor who will act as their thesis committee chair as well as other members of their thesis committee before completing 9 units of coursework in the degree program.\\n\\n\\n\\n\\n\\n\\n\\nThesis option students must successfully complete a thesis and thesis final defense and are responsible for following all applicable NAU conditions as stated in the Requirements for Theses and Dissertations Policy (100806).'),\n",
       " Document(metadata={'source': 'https://catalog.nau.edu/Catalog/details?plan=CSMS', 'title': '\\r\\n\\t\\tComputer Science, Master of Science | Academic Catalog | Northern Arizona University\\r\\n\\t', 'description': '', 'language': 'en-US'}, page_content=\"Students are responsible for ensuring that they meet all course prerequisites.\\n\\n\\n\\n\\n\\nStudents enrolled in this plan may not enroll in or pursue the following due to the number of overlapping units:\\n\\n\\n\\nElectrical Engineering, MSInformatics, MS\\n\\nAccelerated Bachelor's to Master's Program\\n\\n\\n\\n\\n\\n\\n\\nThis program is available as an Accelerated Undergraduate/Graduate Plan wherein a student may start a master's degree while simultaneously completing their bachelor's degree.\\n\\n\\n\\n\\n\\n\\n\\nStudents enrolled at the Flagstaff campus for both undergraduate and graduate programs are eligible to complete the Bachelor of Science in Computer Engineering and start a Master of Science in Computer Science - Non-thesis at NAU.A total of 12 units will be shared between the plans selected from:400-level CS coursework (6 units)500-level CS coursework (6 units)Excluding CS 500 and CS 501OR\"),\n",
       " Document(metadata={'source': 'https://catalog.nau.edu/Catalog/details?plan=CSMS', 'title': '\\r\\n\\t\\tComputer Science, Master of Science | Academic Catalog | Northern Arizona University\\r\\n\\t', 'description': '', 'language': 'en-US'}, page_content='Students enrolled at the Flagstaff campus for both undergraduate and graduate programs are eligible to complete the Bachelor of Science in Computer Science and start a Master of Science in Computer Science - Non-thesis at NAU.A total of 12 units will be shared between the plans selected from:400-level CS coursework (6 units)500-level CS coursework (6 units)Excluding CS 500 and CS 501OR\\n\\n\\n\\n\\n\\n\\n\\nStudents enrolled at the Flagstaff campus for both undergraduate and graduate programs are eligible to complete the Bachelor of Science in Immersive Media and Games and start a Master of Science in Computer Science - Non-thesis at NAU.A total of 12 units will be shared between the plans selected from:400-level CS coursework (6 units)500-level CS coursework (6 units)Excluding CS 500 and CS 501OR'),\n",
       " Document(metadata={'source': 'https://catalog.nau.edu/Catalog/details?plan=CSMS', 'title': '\\r\\n\\t\\tComputer Science, Master of Science | Academic Catalog | Northern Arizona University\\r\\n\\t', 'description': '', 'language': 'en-US'}, page_content=\"Students enrolled at the Flagstaff campus for both undergraduate and graduate programs are eligible to complete the Bachelor of Science in Software Engineering and start a Master of Science in Computer Science - Non-thesis at NAU.A total of 12 units will be shared between the plans selected from:400-level CS coursework (6 units)500-level CS coursework (6 units)Excluding CS 500 and CS 501\\n\\n\\n\\n\\n\\n\\n\\nStudents must apply to the master's program by the graduate program's application deadline, meet all admissions requirements listed in the policy  Accelerated Bachelor's to Master's Programs, as well as the admissions requirements for the specified master's plan to be considered for admission. Admission to programs is competitive and qualified applicants may be denied because of limits on the number of students admitted each year.Be sure to speak with the Master's Program Director/Coordinator regarding your interest in the accelerated plan.\"),\n",
       " Document(metadata={'source': 'https://catalog.nau.edu/Catalog/details?plan=CSMS', 'title': '\\r\\n\\t\\tComputer Science, Master of Science | Academic Catalog | Northern Arizona University\\r\\n\\t', 'description': '', 'language': 'en-US'}, page_content=\"Students accepted into one of the Accelerated Programs should complete the appropriate requirements below.\\n\\n\\n\\n\\n\\nStudents in the Accelerated Bachelor of Science in Computer Engineering, Bachelor of Science in Immersive Media and Games, or Bachelor of Science in Software Engineering to Master's program complete the following requirements:\\n\\n\\n\\n\\n\\nMaster's Requirements\\xa0This Master's degree requires 30 units distributed as follows: Computer Science Coursework:\\xa03 units Non-Thesis Option: 27 unitsTake the following 30 units:\\n\\n\\n\\n\\n\\n Students must complete 24 units of formal letter-graded coursework.\\n\\n\\n\\n\\n\\nComputer Science Coursework (3 units) Select one from the following (3 units):\\t CS 552 INF 503  \\n\\n\\n\\n\\n\\n\\n\\nNon-Thesis Option (27 units) Computer Science Electives (27 units)\\t 400-level CS or IMG coursework (6 units) Graduate-level coursework with at least 15 of the units in CS courses except CS 500 AND CS 501. (21 units)\"),\n",
       " Document(metadata={'source': 'https://catalog.nau.edu/Catalog/details?plan=CSMS', 'title': '\\r\\n\\t\\tComputer Science, Master of Science | Academic Catalog | Northern Arizona University\\r\\n\\t', 'description': '', 'language': 'en-US'}, page_content=\"Students enrolled in this plan may not enroll in or pursue the following due to the number of overlapping units:\\n\\n\\n\\nElectrical Engineering, MSInformatics, MS\\n\\n\\n\\nStudents in the Accelerated Bachelor of Science in Computer Science to Master's program complete the following requirements:\\n\\n\\n\\n\\n\\nMaster's Requirements\\xa0This Master's degree requires 30 units distributed as follows: Computer Science Coursework:\\xa03 units Non-Thesis Option: 27 unitsTake the following 30 units:\\n\\n\\n\\n\\n\\n\\n\\nStudents must complete 24 units of formal letter-graded coursework.\\n\\n\\n\\n\\n\\n\\n\\nComputer Science Coursework (3 units) Select one from the following (3 units):\\t CS 552 INF 503  \\n\\n\\n\\n\\n\\n\\n\\nNon-Thesis Option (27 units) Computer Science Electives (27 units)\\t Graduate-level coursework with at least 15 of the units in CS courses except CS 500 AND CS 501. Students may use a maximum of two courses, up to 6 units, of CS prefixed 400-level courses to satisfy a portion of the elective requirements.\"),\n",
       " Document(metadata={'source': 'https://catalog.nau.edu/Catalog/details?plan=CSMS', 'title': '\\r\\n\\t\\tComputer Science, Master of Science | Academic Catalog | Northern Arizona University\\r\\n\\t', 'description': '', 'language': 'en-US'}, page_content='Students are responsible for ensuring that they meet all course prerequisites.\\n\\n\\n\\n\\n\\nStudents enrolled in this plan may not enroll in or pursue the following due to the number of overlapping units:Electrical Engineering, MSInformatics, MS\\n\\nAdditional Information\\n\\n\\n\\n\\n\\nSome courses may have prerequisites. For prerequisite information, click on the course or see your advisor.\\n\\n\\n\\r\\n\\t\\t\\t\\t\\t\\t\\t\\t\\t\\t\\tProgram Fee Information\\n\\n\\nProgram fees are established by the Arizona Board of Regents (ABOR). A program fee has been approved for this program. See program fee details. Program fees are subject to change and updated July 1 for the next academic year.\\n\\n\\n\\n\\n\\n\\n\\r\\n\\t\\t\\t\\t\\t\\t\\t\\t\\t\\t\\t\\tCampus Availability\\n\\n\\n\\nFlagstaff')]"
      ]
     },
     "execution_count": 30,
     "metadata": {},
     "output_type": "execute_result"
    }
   ],
   "source": [
    "from langchain_classic.text_splitter import RecursiveCharacterTextSplitter\n",
    "\n",
    "text_splitter = RecursiveCharacterTextSplitter(chunk_size = 1000, chunk_overlap=200, separators = [\"\\n\\n\", \"\\n\", \" \", \"\"])\n",
    "\n",
    "chunks = text_splitter.split_documents(docs)\n",
    "chunks"
   ]
  },
  {
   "cell_type": "code",
   "execution_count": 58,
   "id": "60ff98e5",
   "metadata": {},
   "outputs": [],
   "source": [
    "from langchain_classic.embeddings import HuggingFaceBgeEmbeddings\n",
    "\n",
    "embeddings = HuggingFaceBgeEmbeddings(model_name=\"sentence-transformers/all-MiniLM-L6-v2\")"
   ]
  },
  {
   "cell_type": "code",
   "execution_count": 32,
   "id": "77e9d103",
   "metadata": {},
   "outputs": [],
   "source": [
    "from langchain_classic.vectorstores import FAISS\n",
    "\n",
    "vectorstore = FAISS.from_documents(\n",
    "    chunks, embeddings\n",
    ")\n",
    "vectorstore.save_local(\"vectorstore\")"
   ]
  },
  {
   "cell_type": "code",
   "execution_count": 8,
   "id": "bad18c90",
   "metadata": {},
   "outputs": [],
   "source": [
    "from langchain_ollama.llms import OllamaLLM\n",
    "from langchain_classic.prompts import ChatPromptTemplate\n",
    "from langchain_classic.schema.runnable import RunnablePassthrough\n",
    "from langchain_classic.chains.combine_documents import create_stuff_documents_chain\n",
    "from langchain_classic.chains.retrieval import create_retrieval_chain"
   ]
  },
  {
   "cell_type": "code",
   "execution_count": 33,
   "id": "a6aabe79",
   "metadata": {},
   "outputs": [],
   "source": [
    "from langchain_community.vectorstores import FAISS\n",
    "vectorstore_ = FAISS.load_local(\"vectorstore\", embeddings, allow_dangerous_deserialization=True)\n",
    "retriever = vectorstore_.as_retriever(kwargs={\"k\":5}) #fetches relevant documents and returns the top k chunks based on similarity"
   ]
  },
  {
   "cell_type": "code",
   "execution_count": 34,
   "id": "03d143ef",
   "metadata": {},
   "outputs": [
    {
     "data": {
      "text/plain": [
       "\"Additional Admission Requirements\\n\\n\\n\\n\\n\\nIndividual program admission requirements over and above admission to NAU are required.\\n\\n\\n\\nA Bachelor degree in Computer Science or a related field.\\n\\n\\n\\nComputer Science Milestone. Students must pass the Initial Skills Inventory Exam, or complete CS 500 and CS 501 before enrolling in graduate-level CS courses. See the department website for details.\\n\\n\\n\\nEssay/Letter of Intent/Personal Statement*\\n\\n\\n\\nRecommendation(s)/Reference(s)*\\n\\n\\n\\n*See the application for details.\\n\\nMaster's Requirements\\n\\n\\n\\n\\n\\nThis Master's degree requires 30 units distributed as follows: Computer Science Coursework:\\xa03 units Non-Thesis or Thesis Option: 27 units\\t Non-Thesis Option Thesis Option Thesis Option with Research  Take the following 30 units:\\n\\n\\n\\nStudents completing a non-thesis, coursework, project, track, internship, track, or exam option must complete 24 units of formal letter-graded coursework. Overview\\n\\n\\n\\nIn addition to University Requirements:\\n \\t\\tComplete individual plan requirements.\\n\\n\\n\\nMinimum Units for Completion\\n30\\n\\n\\n\\nAdditional Admission Requirements\\nIndividual program admission requirements over and above admission to NAU are required.\\n\\n\\nThesis\\nThesis may be required by chosen emphasis or offered as an option.\\n\\n\\nOral Defense\\nOral Defense may be required by chosen emphasis or offered as an option.\\n\\n\\nResearch\\nIndividualized research may be required by chosen emphasis or offered as an option.\\n\\n\\nProgression Plan Link\\nView Program of Study\\n\\n\\nAccelerated Undergraduate/Graduate Plan\\nOptional Students enrolled at the Flagstaff campus for both undergraduate and graduate programs are eligible to complete the Bachelor of Science in Software Engineering and start a Master of Science in Computer Science - Non-thesis at NAU.A total of 12 units will be shared between the plans selected from:400-level CS coursework (6 units)500-level CS coursework (6 units)Excluding CS 500 and CS 501\\n\\n\\n\\n\\n\\n\\n\\nStudents must apply to the master's program by the graduate program's application deadline, meet all admissions requirements listed in the policy  Accelerated Bachelor's to Master's Programs, as well as the admissions requirements for the specified master's plan to be considered for admission. Admission to programs is competitive and qualified applicants may be denied because of limits on the number of students admitted each year.Be sure to speak with the Master's Program Director/Coordinator regarding your interest in the accelerated plan. Students are responsible for ensuring that they meet all course prerequisites.\\n\\n\\n\\n\\n\\nStudents enrolled in this plan may not enroll in or pursue the following due to the number of overlapping units:\\n\\n\\n\\nElectrical Engineering, MSInformatics, MS\\n\\nAccelerated Bachelor's to Master's Program\\n\\n\\n\\n\\n\\n\\n\\nThis program is available as an Accelerated Undergraduate/Graduate Plan wherein a student may start a master's degree while simultaneously completing their bachelor's degree.\\n\\n\\n\\n\\n\\n\\n\\nStudents enrolled at the Flagstaff campus for both undergraduate and graduate programs are eligible to complete the Bachelor of Science in Computer Engineering and start a Master of Science in Computer Science - Non-thesis at NAU.A total of 12 units will be shared between the plans selected from:400-level CS coursework (6 units)500-level CS coursework (6 units)Excluding CS 500 and CS 501OR\""
      ]
     },
     "execution_count": 34,
     "metadata": {},
     "output_type": "execute_result"
    }
   ],
   "source": [
    "query = \"What are the core requirements for the NAU Computer Science MS program?\"\n",
    "retrieved_docs = retriever.invoke(query)\n",
    "context = ' '.join([doc.page_content for doc in retrieved_docs])\n",
    "context"
   ]
  },
  {
   "cell_type": "code",
   "execution_count": 54,
   "id": "7432562e",
   "metadata": {},
   "outputs": [],
   "source": [
    "from langchain_community.llms import GPT4All\n",
    "llm = GPT4All(\n",
    "    model=\"qwen2.5-coder-7b-instruct-q4_0.gguf\",  # use a stable small local model\n",
    "    allow_download=True\n",
    ")"
   ]
  },
  {
   "cell_type": "code",
   "execution_count": null,
   "id": "41d722c1",
   "metadata": {},
   "outputs": [],
   "source": [
    "prompt = f\"\"\"\n",
    "You are a knowledgeable assistant. \n",
    "Please explain in depth, step by step, using detailed reasoning.\n",
    "\n",
    "Context:a\n",
    "{context}\n",
    "\n",
    "Question: {query}\n",
    "Answer:\"\"\""
   ]
  },
  {
   "cell_type": "code",
   "execution_count": 40,
   "id": "89ae731f",
   "metadata": {},
   "outputs": [
    {
     "data": {
      "text/plain": [
       "\"Answer the question accordingto the context provided, provide brief and correct answer \\nContext: Additional Admission Requirements\\n\\n\\n\\n\\n\\nIndividual program admission requirements over and above admission to NAU are required.\\n\\n\\n\\nA Bachelor degree in Computer Science or a related field.\\n\\n\\n\\nComputer Science Milestone. Students must pass the Initial Skills Inventory Exam, or complete CS 500 and CS 501 before enrolling in graduate-level CS courses. See the department website for details.\\n\\n\\n\\nEssay/Letter of Intent/Personal Statement*\\n\\n\\n\\nRecommendation(s)/Reference(s)*\\n\\n\\n\\n*See the application for details.\\n\\nMaster's Requirements\\n\\n\\n\\n\\n\\nThis Master's degree requires 30 units distributed as follows: Computer Science Coursework:\\xa03 units Non-Thesis or Thesis Option: 27 units\\t Non-Thesis Option Thesis Option Thesis Option with Research  Take the following 30 units:\\n\\n\\n\\nStudents completing a non-thesis, coursework, project, track, internship, track, or exam option must complete 24 units of formal letter-graded coursework. Overview\\n\\n\\n\\nIn addition to University Requirements:\\n \\t\\tComplete individual plan requirements.\\n\\n\\n\\nMinimum Units for Completion\\n30\\n\\n\\n\\nAdditional Admission Requirements\\nIndividual program admission requirements over and above admission to NAU are required.\\n\\n\\nThesis\\nThesis may be required by chosen emphasis or offered as an option.\\n\\n\\nOral Defense\\nOral Defense may be required by chosen emphasis or offered as an option.\\n\\n\\nResearch\\nIndividualized research may be required by chosen emphasis or offered as an option.\\n\\n\\nProgression Plan Link\\nView Program of Study\\n\\n\\nAccelerated Undergraduate/Graduate Plan\\nOptional Students enrolled at the Flagstaff campus for both undergraduate and graduate programs are eligible to complete the Bachelor of Science in Software Engineering and start a Master of Science in Computer Science - Non-thesis at NAU.A total of 12 units will be shared between the plans selected from:400-level CS coursework (6 units)500-level CS coursework (6 units)Excluding CS 500 and CS 501\\n\\n\\n\\n\\n\\n\\n\\nStudents must apply to the master's program by the graduate program's application deadline, meet all admissions requirements listed in the policy  Accelerated Bachelor's to Master's Programs, as well as the admissions requirements for the specified master's plan to be considered for admission. Admission to programs is competitive and qualified applicants may be denied because of limits on the number of students admitted each year.Be sure to speak with the Master's Program Director/Coordinator regarding your interest in the accelerated plan. Students are responsible for ensuring that they meet all course prerequisites.\\n\\n\\n\\n\\n\\nStudents enrolled in this plan may not enroll in or pursue the following due to the number of overlapping units:\\n\\n\\n\\nElectrical Engineering, MSInformatics, MS\\n\\nAccelerated Bachelor's to Master's Program\\n\\n\\n\\n\\n\\n\\n\\nThis program is available as an Accelerated Undergraduate/Graduate Plan wherein a student may start a master's degree while simultaneously completing their bachelor's degree.\\n\\n\\n\\n\\n\\n\\n\\nStudents enrolled at the Flagstaff campus for both undergraduate and graduate programs are eligible to complete the Bachelor of Science in Computer Engineering and start a Master of Science in Computer Science - Non-thesis at NAU.A total of 12 units will be shared between the plans selected from:400-level CS coursework (6 units)500-level CS coursework (6 units)Excluding CS 500 and CS 501OR\\n Question: What are the core requirements for the NAU Computer Science MS program?\\n Answer: \""
      ]
     },
     "execution_count": 40,
     "metadata": {},
     "output_type": "execute_result"
    }
   ],
   "source": [
    "prompt"
   ]
  },
  {
   "cell_type": "code",
   "execution_count": 48,
   "id": "2f1638a1",
   "metadata": {},
   "outputs": [],
   "source": [
    "response = llm.invoke(prompt, max_tokens=1000)     # make it more creative"
   ]
  },
  {
   "cell_type": "code",
   "execution_count": 50,
   "id": "de111c53",
   "metadata": {},
   "outputs": [
    {
     "name": "stdout",
     "output_type": "stream",
     "text": [
      " The core requirements for the NAU Computer Science MS program include a Bachelor's degree in Computer Science or a related field, passing the Initial Skills Inventory Exam (or completing CS 500 and CS 501), an essay/letter of intent/personal statement, recommendation(s)/reference(s), and completing 30 units distributed as follows: 24 units of formal letter-graded coursework for non-thesis options.\n",
      "\n",
      "To elaborate on the core requirements:\n",
      "\n",
      "1. Bachelor's degree in Computer Science or a related field:\n",
      "   - This requirement ensures that students have foundational knowledge in computer science before pursuing advanced studies.\n",
      "   - A related field may include other disciplines such as software engineering, data science, or cybersecurity.\n",
      "\n",
      "2. Initial Skills Inventory Exam (or completing CS 500 and CS 501):\n",
      "   - The exam assesses the student's initial skills in computer science to ensure they are prepared for graduate-level coursework.\n",
      "   - Alternatively, students can complete specific courses if they prefer not to take the exam.\n",
      "\n",
      "3. Essay/letter of intent/personal statement:\n",
      "   - This requirement allows students to express their motivation and goals for pursuing a master's degree in Computer Science at NAU.\n",
      "   - It provides an opportunity for students to showcase their writing\n"
     ]
    }
   ],
   "source": [
    "print(response)"
   ]
  },
  {
   "cell_type": "code",
   "execution_count": 51,
   "id": "e0923fd3",
   "metadata": {},
   "outputs": [],
   "source": [
    "from langchain_community.vectorstores import FAISS\n",
    "vectorstore_ = FAISS.load_local(\"vectorstore\", embeddings, allow_dangerous_deserialization=True)\n",
    "retriever = vectorstore_.as_retriever(kwargs={\"k\":6}) #fetches relevant documents\n",
    "llm = OllamaLLM(model=\"llama3\")"
   ]
  },
  {
   "cell_type": "code",
   "execution_count": 52,
   "id": "51b2b087",
   "metadata": {},
   "outputs": [
    {
     "name": "stdout",
     "output_type": "stream",
     "text": [
      "To determine the core requirements for the NAU Computer Science MS program, let's break down the information provided step by step.\n",
      "\n",
      "1. **Additional Admission Requirements**: The program requires individual program admission requirements over and above admission to NAU.\n",
      "2. **Master's Requirements**: To complete a Master's degree in Computer Science, students need to take 30 units distributed as follows:\n",
      "\t* **Computer Science Coursework**: 3 units\n",
      "\t* **Non-Thesis or Thesis Option**: 27 units (24 units of formal letter-graded coursework for non-thesis option)\n",
      "3. **Non-Thesis or Thesis Option**: The program offers two options: Non-Thesis and Thesis.\n",
      "4. **Thesis, Oral Defense, and Research**: Depending on the chosen emphasis, thesis, oral defense, or research may be required.\n",
      "\n",
      "Now, to identify the core requirements, let's focus on the minimum units needed for completion (30 units) and the specific coursework required:\n",
      "\n",
      "* **Computer Science Coursework**: 3 units\n",
      "* **Non-Thesis or Thesis Option**: 27 units (including 24 units of formal letter-graded coursework)\n",
      "\n",
      "The core requirements for the NAU Computer Science MS program are:\n",
      "\n",
      "1. Completion of 30 units, distributed as follows:\n",
      "\t* 3 units of Computer Science Coursework\n",
      "\t* 27 units of Non-Thesis or Thesis Option coursework (24 units of formal letter-graded coursework)\n",
      "2. Satisfying individual plan requirements\n",
      "\n",
      "Note that the accelerated undergraduate/graduate plan and other options are available, but these do not alter the core requirements for the Master's program.\n"
     ]
    }
   ],
   "source": [
    "response = llm.invoke(prompt)\n",
    "print(response)"
   ]
  },
  {
   "cell_type": "code",
   "execution_count": 8,
   "id": "3c682e9b",
   "metadata": {},
   "outputs": [],
   "source": [
    "#Create a prompt template\n",
    "prompt = ChatPromptTemplate.from_template(\n",
    "    \"You are a helpful assistant that answers questions using the provided context.\" \\\n",
    "    \"Question: {input}\\n\\n\"\n",
    "    \"Context: {context}\"\n",
    "    \"Provide a clear and concise answer based on the context above\"\n",
    ")"
   ]
  },
  {
   "cell_type": "code",
   "execution_count": 9,
   "id": "453a2432",
   "metadata": {},
   "outputs": [],
   "source": [
    "document_chain = create_stuff_documents_chain(llm, prompt)"
   ]
  },
  {
   "cell_type": "code",
   "execution_count": 10,
   "id": "d1aeb6c7",
   "metadata": {},
   "outputs": [],
   "source": [
    "retrieval_chain = create_retrieval_chain(retriever, document_chain)"
   ]
  },
  {
   "cell_type": "code",
   "execution_count": 11,
   "id": "5f48ab74",
   "metadata": {},
   "outputs": [
    {
     "name": "stdout",
     "output_type": "stream",
     "text": [
      "Answer:\n",
      " According to the provided context, the core requirements for the NAU Computer Science MS program are:\n",
      "\n",
      "* A Bachelor's degree in Computer Science or a related field.\n",
      "\n",
      "These are the individual program admission requirements over and above admission to NAU.\n",
      "Answer:\n",
      " According to the provided context, the core requirements for the NAU Computer Science MS program are:\n",
      "\n",
      "* A Bachelor's degree in Computer Science or a related field.\n",
      "\n",
      "These are the individual program admission requirements over and above admission to NAU.\n",
      "\n",
      "Retrieved context chunks:\n",
      "--- Chunk 1 ---\n",
      "Additional Admission Requirements\n",
      "\n",
      "\n",
      "\n",
      "\n",
      "\n",
      "Individual program admission requirements over and above admission to NAU are required.\n",
      "\n",
      "\n",
      "\n",
      "A Bachelor degree in Computer Science or a related field. ...\n",
      "\n",
      "--- Chunk 2 ---\n",
      "of Science in Computer Science - Non-thesis at NAU.A total of 12 units will be shared between the plans selected from:400-level CS coursework (6 units)500-level CS coursework (6 units)Excluding CS ...\n",
      "\n",
      "--- Chunk 3 ---\n",
      "of Science in Computer Science - Non-thesis at NAU.A total of 12 units will be shared between the plans selected from:400-level CS coursework (6 units)500-level CS coursework (6 units)Excluding CS ...\n",
      "\n",
      "--- Chunk 4 ---\n",
      "of Science in Computer Science - Non-thesis at NAU.A total of 12 units will be shared between the plans selected from:400-level CS coursework (6 units)500-level CS coursework (6 units)Excluding CS ...\n",
      "\n"
     ]
    }
   ],
   "source": [
    "query = \"What are the core requirements for the NAU Computer Science MS program?\"\n",
    "result = retrieval_chain.invoke({\"input\": query})\n",
    "print(\"Answer:\\n\", result[\"answer\"])\n",
    "\n",
    "# Step 11: Display results\n",
    "print(\"Answer:\\n\", result[\"answer\"])\n",
    "print(\"\\nRetrieved context chunks:\")\n",
    "for i, doc in enumerate(result[\"context\"]):\n",
    "    print(f\"--- Chunk {i+1} ---\")\n",
    "    print(doc.page_content[:300], \"...\\n\")"
   ]
  },
  {
   "cell_type": "code",
   "execution_count": null,
   "id": "9aaf504c",
   "metadata": {},
   "outputs": [],
   "source": [
    "from langchain_community.llms import GPT4All\n",
    "llm = GPT4All(model=\"mistral-7b-instruct.Q4_0.gguf\")"
   ]
  },
  {
   "cell_type": "code",
   "execution_count": 2,
   "id": "49fd1dd8",
   "metadata": {},
   "outputs": [
    {
     "name": "stderr",
     "output_type": "stream",
     "text": [
      "d:\\ML Projects\\nau-smart-campus-assistant\\.venv\\Lib\\site-packages\\tqdm\\auto.py:21: TqdmWarning: IProgress not found. Please update jupyter and ipywidgets. See https://ipywidgets.readthedocs.io/en/stable/user_install.html\n",
      "  from .autonotebook import tqdm as notebook_tqdm\n"
     ]
    },
    {
     "ename": "KeyboardInterrupt",
     "evalue": "",
     "output_type": "error",
     "traceback": [
      "\u001b[31m---------------------------------------------------------------------------\u001b[39m",
      "\u001b[31mKeyboardInterrupt\u001b[39m                         Traceback (most recent call last)",
      "\u001b[36mCell\u001b[39m\u001b[36m \u001b[39m\u001b[32mIn[2]\u001b[39m\u001b[32m, line 1\u001b[39m\n\u001b[32m----> \u001b[39m\u001b[32m1\u001b[39m \u001b[38;5;28;01mfrom\u001b[39;00m\u001b[38;5;250m \u001b[39m\u001b[34;01mlangchain_classic\u001b[39;00m\u001b[34;01m.\u001b[39;00m\u001b[34;01mdocument_loaders\u001b[39;00m\u001b[38;5;250m \u001b[39m\u001b[38;5;28;01mimport\u001b[39;00m WebBaseLoader\n\u001b[32m      2\u001b[39m \u001b[38;5;28;01mfrom\u001b[39;00m\u001b[38;5;250m \u001b[39m\u001b[34;01mlangchain_classic\u001b[39;00m\u001b[34;01m.\u001b[39;00m\u001b[34;01membeddings\u001b[39;00m\u001b[38;5;250m \u001b[39m\u001b[38;5;28;01mimport\u001b[39;00m SentenceTransformerEmbeddings\n\u001b[32m      3\u001b[39m \u001b[38;5;28;01mfrom\u001b[39;00m\u001b[38;5;250m \u001b[39m\u001b[34;01mlangchain_classic\u001b[39;00m\u001b[34;01m.\u001b[39;00m\u001b[34;01mvectorstores\u001b[39;00m\u001b[38;5;250m \u001b[39m\u001b[38;5;28;01mimport\u001b[39;00m FAISS\n",
      "\u001b[36mFile \u001b[39m\u001b[32m<frozen importlib._bootstrap>:1231\u001b[39m, in \u001b[36m_handle_fromlist\u001b[39m\u001b[34m(module, fromlist, import_, recursive)\u001b[39m\n",
      "\u001b[36mFile \u001b[39m\u001b[32md:\\ML Projects\\nau-smart-campus-assistant\\.venv\\Lib\\site-packages\\langchain_classic\\document_loaders\\__init__.py:367\u001b[39m, in \u001b[36m__getattr__\u001b[39m\u001b[34m(name)\u001b[39m\n\u001b[32m    365\u001b[39m \u001b[38;5;28;01mdef\u001b[39;00m\u001b[38;5;250m \u001b[39m\u001b[34m__getattr__\u001b[39m(name: \u001b[38;5;28mstr\u001b[39m) -> Any:\n\u001b[32m    366\u001b[39m \u001b[38;5;250m    \u001b[39m\u001b[33;03m\"\"\"Look up attributes dynamically.\"\"\"\u001b[39;00m\n\u001b[32m--> \u001b[39m\u001b[32m367\u001b[39m     \u001b[38;5;28;01mreturn\u001b[39;00m \u001b[43m_import_attribute\u001b[49m\u001b[43m(\u001b[49m\u001b[43mname\u001b[49m\u001b[43m)\u001b[49m\n",
      "\u001b[36mFile \u001b[39m\u001b[32md:\\ML Projects\\nau-smart-campus-assistant\\.venv\\Lib\\site-packages\\langchain_classic\\_api\\module_import.py:83\u001b[39m, in \u001b[36mcreate_importer.<locals>.import_by_name\u001b[39m\u001b[34m(name)\u001b[39m\n\u001b[32m     80\u001b[39m     \u001b[38;5;28;01mraise\u001b[39;00m\n\u001b[32m     82\u001b[39m \u001b[38;5;28;01mtry\u001b[39;00m:\n\u001b[32m---> \u001b[39m\u001b[32m83\u001b[39m     result = \u001b[38;5;28;43mgetattr\u001b[39;49m\u001b[43m(\u001b[49m\u001b[43mmodule\u001b[49m\u001b[43m,\u001b[49m\u001b[43m \u001b[49m\u001b[43mname\u001b[49m\u001b[43m)\u001b[49m\n\u001b[32m     84\u001b[39m     \u001b[38;5;28;01mif\u001b[39;00m (\n\u001b[32m     85\u001b[39m         \u001b[38;5;129;01mnot\u001b[39;00m is_interactive_env()\n\u001b[32m     86\u001b[39m         \u001b[38;5;129;01mand\u001b[39;00m deprecated_lookups\n\u001b[32m   (...)\u001b[39m\u001b[32m     93\u001b[39m         \u001b[38;5;129;01mand\u001b[39;00m \u001b[38;5;129;01mnot\u001b[39;00m internal.is_caller_internal(depth=\u001b[32m3\u001b[39m)\n\u001b[32m     94\u001b[39m     ):\n\u001b[32m     95\u001b[39m         warn_deprecated(\n\u001b[32m     96\u001b[39m             since=\u001b[33m\"\u001b[39m\u001b[33m0.1\u001b[39m\u001b[33m\"\u001b[39m,\n\u001b[32m     97\u001b[39m             pending=\u001b[38;5;28;01mFalse\u001b[39;00m,\n\u001b[32m   (...)\u001b[39m\u001b[32m    108\u001b[39m             ),\n\u001b[32m    109\u001b[39m         )\n",
      "\u001b[36mFile \u001b[39m\u001b[32md:\\ML Projects\\nau-smart-campus-assistant\\.venv\\Lib\\site-packages\\langchain_community\\document_loaders\\__init__.py:740\u001b[39m, in \u001b[36m__getattr__\u001b[39m\u001b[34m(name)\u001b[39m\n\u001b[32m    738\u001b[39m \u001b[38;5;28;01mdef\u001b[39;00m\u001b[38;5;250m \u001b[39m\u001b[34m__getattr__\u001b[39m(name: \u001b[38;5;28mstr\u001b[39m) -> Any:\n\u001b[32m    739\u001b[39m     \u001b[38;5;28;01mif\u001b[39;00m name \u001b[38;5;129;01min\u001b[39;00m _module_lookup:\n\u001b[32m--> \u001b[39m\u001b[32m740\u001b[39m         module = \u001b[43mimportlib\u001b[49m\u001b[43m.\u001b[49m\u001b[43mimport_module\u001b[49m\u001b[43m(\u001b[49m\u001b[43m_module_lookup\u001b[49m\u001b[43m[\u001b[49m\u001b[43mname\u001b[49m\u001b[43m]\u001b[49m\u001b[43m)\u001b[49m\n\u001b[32m    741\u001b[39m         \u001b[38;5;28;01mreturn\u001b[39;00m \u001b[38;5;28mgetattr\u001b[39m(module, name)\n\u001b[32m    742\u001b[39m     \u001b[38;5;28;01mraise\u001b[39;00m \u001b[38;5;167;01mAttributeError\u001b[39;00m(\u001b[33mf\u001b[39m\u001b[33m\"\u001b[39m\u001b[33mmodule \u001b[39m\u001b[38;5;132;01m{\u001b[39;00m\u001b[34m__name__\u001b[39m\u001b[38;5;132;01m}\u001b[39;00m\u001b[33m has no attribute \u001b[39m\u001b[38;5;132;01m{\u001b[39;00mname\u001b[38;5;132;01m}\u001b[39;00m\u001b[33m\"\u001b[39m)\n",
      "\u001b[36mFile \u001b[39m\u001b[32m~\\AppData\\Local\\Programs\\Python\\Python311\\Lib\\importlib\\__init__.py:126\u001b[39m, in \u001b[36mimport_module\u001b[39m\u001b[34m(name, package)\u001b[39m\n\u001b[32m    124\u001b[39m             \u001b[38;5;28;01mbreak\u001b[39;00m\n\u001b[32m    125\u001b[39m         level += \u001b[32m1\u001b[39m\n\u001b[32m--> \u001b[39m\u001b[32m126\u001b[39m \u001b[38;5;28;01mreturn\u001b[39;00m \u001b[43m_bootstrap\u001b[49m\u001b[43m.\u001b[49m\u001b[43m_gcd_import\u001b[49m\u001b[43m(\u001b[49m\u001b[43mname\u001b[49m\u001b[43m[\u001b[49m\u001b[43mlevel\u001b[49m\u001b[43m:\u001b[49m\u001b[43m]\u001b[49m\u001b[43m,\u001b[49m\u001b[43m \u001b[49m\u001b[43mpackage\u001b[49m\u001b[43m,\u001b[49m\u001b[43m \u001b[49m\u001b[43mlevel\u001b[49m\u001b[43m)\u001b[49m\n",
      "\u001b[36mFile \u001b[39m\u001b[32md:\\ML Projects\\nau-smart-campus-assistant\\.venv\\Lib\\site-packages\\langchain_community\\document_loaders\\web_base.py:13\u001b[39m\n\u001b[32m     10\u001b[39m \u001b[38;5;28;01mfrom\u001b[39;00m\u001b[38;5;250m \u001b[39m\u001b[34;01mlangchain_core\u001b[39;00m\u001b[34;01m.\u001b[39;00m\u001b[34;01m_api\u001b[39;00m\u001b[38;5;250m \u001b[39m\u001b[38;5;28;01mimport\u001b[39;00m deprecated\n\u001b[32m     11\u001b[39m \u001b[38;5;28;01mfrom\u001b[39;00m\u001b[38;5;250m \u001b[39m\u001b[34;01mlangchain_core\u001b[39;00m\u001b[34;01m.\u001b[39;00m\u001b[34;01mdocuments\u001b[39;00m\u001b[38;5;250m \u001b[39m\u001b[38;5;28;01mimport\u001b[39;00m Document\n\u001b[32m---> \u001b[39m\u001b[32m13\u001b[39m \u001b[38;5;28;01mfrom\u001b[39;00m\u001b[38;5;250m \u001b[39m\u001b[34;01mlangchain_community\u001b[39;00m\u001b[34;01m.\u001b[39;00m\u001b[34;01mdocument_loaders\u001b[39;00m\u001b[34;01m.\u001b[39;00m\u001b[34;01mbase\u001b[39;00m\u001b[38;5;250m \u001b[39m\u001b[38;5;28;01mimport\u001b[39;00m BaseLoader\n\u001b[32m     14\u001b[39m \u001b[38;5;28;01mfrom\u001b[39;00m\u001b[38;5;250m \u001b[39m\u001b[34;01mlangchain_community\u001b[39;00m\u001b[34;01m.\u001b[39;00m\u001b[34;01mutils\u001b[39;00m\u001b[34;01m.\u001b[39;00m\u001b[34;01muser_agent\u001b[39;00m\u001b[38;5;250m \u001b[39m\u001b[38;5;28;01mimport\u001b[39;00m get_user_agent\n\u001b[32m     16\u001b[39m logger = logging.getLogger(\u001b[34m__name__\u001b[39m)\n",
      "\u001b[36mFile \u001b[39m\u001b[32md:\\ML Projects\\nau-smart-campus-assistant\\.venv\\Lib\\site-packages\\langchain_community\\document_loaders\\base.py:1\u001b[39m\n\u001b[32m----> \u001b[39m\u001b[32m1\u001b[39m \u001b[38;5;28;01mfrom\u001b[39;00m\u001b[38;5;250m \u001b[39m\u001b[34;01mlangchain_core\u001b[39;00m\u001b[34;01m.\u001b[39;00m\u001b[34;01mdocument_loaders\u001b[39;00m\u001b[38;5;250m \u001b[39m\u001b[38;5;28;01mimport\u001b[39;00m BaseBlobParser, BaseLoader\n\u001b[32m      3\u001b[39m __all__ = [\n\u001b[32m      4\u001b[39m     \u001b[33m\"\u001b[39m\u001b[33mBaseBlobParser\u001b[39m\u001b[33m\"\u001b[39m,\n\u001b[32m      5\u001b[39m     \u001b[33m\"\u001b[39m\u001b[33mBaseLoader\u001b[39m\u001b[33m\"\u001b[39m,\n\u001b[32m      6\u001b[39m ]\n",
      "\u001b[36mFile \u001b[39m\u001b[32m<frozen importlib._bootstrap>:1231\u001b[39m, in \u001b[36m_handle_fromlist\u001b[39m\u001b[34m(module, fromlist, import_, recursive)\u001b[39m\n",
      "\u001b[36mFile \u001b[39m\u001b[32md:\\ML Projects\\nau-smart-campus-assistant\\.venv\\Lib\\site-packages\\langchain_core\\document_loaders\\__init__.py:33\u001b[39m, in \u001b[36m__getattr__\u001b[39m\u001b[34m(attr_name)\u001b[39m\n\u001b[32m     31\u001b[39m \u001b[38;5;28;01mdef\u001b[39;00m\u001b[38;5;250m \u001b[39m\u001b[34m__getattr__\u001b[39m(attr_name: \u001b[38;5;28mstr\u001b[39m) -> \u001b[38;5;28mobject\u001b[39m:\n\u001b[32m     32\u001b[39m     module_name = _dynamic_imports.get(attr_name)\n\u001b[32m---> \u001b[39m\u001b[32m33\u001b[39m     result = \u001b[43mimport_attr\u001b[49m\u001b[43m(\u001b[49m\u001b[43mattr_name\u001b[49m\u001b[43m,\u001b[49m\u001b[43m \u001b[49m\u001b[43mmodule_name\u001b[49m\u001b[43m,\u001b[49m\u001b[43m \u001b[49m\u001b[43m__spec__\u001b[49m\u001b[43m.\u001b[49m\u001b[43mparent\u001b[49m\u001b[43m)\u001b[49m\n\u001b[32m     34\u001b[39m     \u001b[38;5;28mglobals\u001b[39m()[attr_name] = result\n\u001b[32m     35\u001b[39m     \u001b[38;5;28;01mreturn\u001b[39;00m result\n",
      "\u001b[36mFile \u001b[39m\u001b[32md:\\ML Projects\\nau-smart-campus-assistant\\.venv\\Lib\\site-packages\\langchain_core\\_import_utils.py:35\u001b[39m, in \u001b[36mimport_attr\u001b[39m\u001b[34m(attr_name, module_name, package)\u001b[39m\n\u001b[32m     33\u001b[39m \u001b[38;5;28;01melse\u001b[39;00m:\n\u001b[32m     34\u001b[39m     \u001b[38;5;28;01mtry\u001b[39;00m:\n\u001b[32m---> \u001b[39m\u001b[32m35\u001b[39m         module = \u001b[43mimport_module\u001b[49m\u001b[43m(\u001b[49m\u001b[33;43mf\u001b[39;49m\u001b[33;43m\"\u001b[39;49m\u001b[33;43m.\u001b[39;49m\u001b[38;5;132;43;01m{\u001b[39;49;00m\u001b[43mmodule_name\u001b[49m\u001b[38;5;132;43;01m}\u001b[39;49;00m\u001b[33;43m\"\u001b[39;49m\u001b[43m,\u001b[49m\u001b[43m \u001b[49m\u001b[43mpackage\u001b[49m\u001b[43m=\u001b[49m\u001b[43mpackage\u001b[49m\u001b[43m)\u001b[49m\n\u001b[32m     36\u001b[39m     \u001b[38;5;28;01mexcept\u001b[39;00m \u001b[38;5;167;01mModuleNotFoundError\u001b[39;00m \u001b[38;5;28;01mas\u001b[39;00m err:\n\u001b[32m     37\u001b[39m         msg = \u001b[33mf\u001b[39m\u001b[33m\"\u001b[39m\u001b[33mmodule \u001b[39m\u001b[33m'\u001b[39m\u001b[38;5;132;01m{\u001b[39;00mpackage\u001b[38;5;132;01m!r}\u001b[39;00m\u001b[33m.\u001b[39m\u001b[38;5;132;01m{\u001b[39;00mmodule_name\u001b[38;5;132;01m!r}\u001b[39;00m\u001b[33m'\u001b[39m\u001b[33m not found (\u001b[39m\u001b[38;5;132;01m{\u001b[39;00merr\u001b[38;5;132;01m}\u001b[39;00m\u001b[33m)\u001b[39m\u001b[33m\"\u001b[39m\n",
      "\u001b[36mFile \u001b[39m\u001b[32m~\\AppData\\Local\\Programs\\Python\\Python311\\Lib\\importlib\\__init__.py:126\u001b[39m, in \u001b[36mimport_module\u001b[39m\u001b[34m(name, package)\u001b[39m\n\u001b[32m    124\u001b[39m             \u001b[38;5;28;01mbreak\u001b[39;00m\n\u001b[32m    125\u001b[39m         level += \u001b[32m1\u001b[39m\n\u001b[32m--> \u001b[39m\u001b[32m126\u001b[39m \u001b[38;5;28;01mreturn\u001b[39;00m \u001b[43m_bootstrap\u001b[49m\u001b[43m.\u001b[49m\u001b[43m_gcd_import\u001b[49m\u001b[43m(\u001b[49m\u001b[43mname\u001b[49m\u001b[43m[\u001b[49m\u001b[43mlevel\u001b[49m\u001b[43m:\u001b[49m\u001b[43m]\u001b[49m\u001b[43m,\u001b[49m\u001b[43m \u001b[49m\u001b[43mpackage\u001b[49m\u001b[43m,\u001b[49m\u001b[43m \u001b[49m\u001b[43mlevel\u001b[49m\u001b[43m)\u001b[49m\n",
      "\u001b[36mFile \u001b[39m\u001b[32md:\\ML Projects\\nau-smart-campus-assistant\\.venv\\Lib\\site-packages\\langchain_core\\document_loaders\\base.py:19\u001b[39m\n\u001b[32m     16\u001b[39m     \u001b[38;5;28;01mfrom\u001b[39;00m\u001b[38;5;250m \u001b[39m\u001b[34;01mlangchain_core\u001b[39;00m\u001b[34;01m.\u001b[39;00m\u001b[34;01mdocuments\u001b[39;00m\u001b[34;01m.\u001b[39;00m\u001b[34;01mbase\u001b[39;00m\u001b[38;5;250m \u001b[39m\u001b[38;5;28;01mimport\u001b[39;00m Blob\n\u001b[32m     18\u001b[39m \u001b[38;5;28;01mtry\u001b[39;00m:\n\u001b[32m---> \u001b[39m\u001b[32m19\u001b[39m     \u001b[38;5;28;01mfrom\u001b[39;00m\u001b[38;5;250m \u001b[39m\u001b[34;01mlangchain_text_splitters\u001b[39;00m\u001b[38;5;250m \u001b[39m\u001b[38;5;28;01mimport\u001b[39;00m RecursiveCharacterTextSplitter\n\u001b[32m     21\u001b[39m     _HAS_TEXT_SPLITTERS = \u001b[38;5;28;01mTrue\u001b[39;00m\n\u001b[32m     22\u001b[39m \u001b[38;5;28;01mexcept\u001b[39;00m \u001b[38;5;167;01mImportError\u001b[39;00m:\n",
      "\u001b[36mFile \u001b[39m\u001b[32md:\\ML Projects\\nau-smart-campus-assistant\\.venv\\Lib\\site-packages\\langchain_text_splitters\\__init__.py:8\u001b[39m\n\u001b[32m      1\u001b[39m \u001b[33;03m\"\"\"**Text Splitters** are classes for splitting text.\u001b[39;00m\n\u001b[32m      2\u001b[39m \n\u001b[32m      3\u001b[39m \u001b[33;03m!!! note\u001b[39;00m\n\u001b[32m      4\u001b[39m \u001b[33;03m    **MarkdownHeaderTextSplitter** and **HTMLHeaderTextSplitter do not derive from\u001b[39;00m\n\u001b[32m      5\u001b[39m \u001b[33;03m    TextSplitter.\u001b[39;00m\n\u001b[32m      6\u001b[39m \u001b[33;03m\"\"\"\u001b[39;00m\n\u001b[32m----> \u001b[39m\u001b[32m8\u001b[39m \u001b[38;5;28;01mfrom\u001b[39;00m\u001b[38;5;250m \u001b[39m\u001b[34;01mlangchain_text_splitters\u001b[39;00m\u001b[34;01m.\u001b[39;00m\u001b[34;01mbase\u001b[39;00m\u001b[38;5;250m \u001b[39m\u001b[38;5;28;01mimport\u001b[39;00m (\n\u001b[32m      9\u001b[39m     Language,\n\u001b[32m     10\u001b[39m     TextSplitter,\n\u001b[32m     11\u001b[39m     Tokenizer,\n\u001b[32m     12\u001b[39m     TokenTextSplitter,\n\u001b[32m     13\u001b[39m     split_text_on_tokens,\n\u001b[32m     14\u001b[39m )\n\u001b[32m     15\u001b[39m \u001b[38;5;28;01mfrom\u001b[39;00m\u001b[38;5;250m \u001b[39m\u001b[34;01mlangchain_text_splitters\u001b[39;00m\u001b[34;01m.\u001b[39;00m\u001b[34;01mcharacter\u001b[39;00m\u001b[38;5;250m \u001b[39m\u001b[38;5;28;01mimport\u001b[39;00m (\n\u001b[32m     16\u001b[39m     CharacterTextSplitter,\n\u001b[32m     17\u001b[39m     RecursiveCharacterTextSplitter,\n\u001b[32m     18\u001b[39m )\n\u001b[32m     19\u001b[39m \u001b[38;5;28;01mfrom\u001b[39;00m\u001b[38;5;250m \u001b[39m\u001b[34;01mlangchain_text_splitters\u001b[39;00m\u001b[34;01m.\u001b[39;00m\u001b[34;01mhtml\u001b[39;00m\u001b[38;5;250m \u001b[39m\u001b[38;5;28;01mimport\u001b[39;00m (\n\u001b[32m     20\u001b[39m     ElementType,\n\u001b[32m     21\u001b[39m     HTMLHeaderTextSplitter,\n\u001b[32m     22\u001b[39m     HTMLSectionSplitter,\n\u001b[32m     23\u001b[39m     HTMLSemanticPreservingSplitter,\n\u001b[32m     24\u001b[39m )\n",
      "\u001b[36mFile \u001b[39m\u001b[32md:\\ML Projects\\nau-smart-campus-assistant\\.venv\\Lib\\site-packages\\langchain_text_splitters\\base.py:33\u001b[39m\n\u001b[32m     30\u001b[39m     _HAS_TIKTOKEN = \u001b[38;5;28;01mFalse\u001b[39;00m\n\u001b[32m     32\u001b[39m \u001b[38;5;28;01mtry\u001b[39;00m:\n\u001b[32m---> \u001b[39m\u001b[32m33\u001b[39m     \u001b[38;5;28;01mfrom\u001b[39;00m\u001b[38;5;250m \u001b[39m\u001b[34;01mtransformers\u001b[39;00m\u001b[34;01m.\u001b[39;00m\u001b[34;01mtokenization_utils_base\u001b[39;00m\u001b[38;5;250m \u001b[39m\u001b[38;5;28;01mimport\u001b[39;00m PreTrainedTokenizerBase\n\u001b[32m     35\u001b[39m     _HAS_TRANSFORMERS = \u001b[38;5;28;01mTrue\u001b[39;00m\n\u001b[32m     36\u001b[39m \u001b[38;5;28;01mexcept\u001b[39;00m \u001b[38;5;167;01mImportError\u001b[39;00m:\n",
      "\u001b[36mFile \u001b[39m\u001b[32md:\\ML Projects\\nau-smart-campus-assistant\\.venv\\Lib\\site-packages\\transformers\\__init__.py:958\u001b[39m\n\u001b[32m    954\u001b[39m \u001b[38;5;28;01mimport\u001b[39;00m\u001b[38;5;250m \u001b[39m\u001b[34;01msys\u001b[39;00m\n\u001b[32m    956\u001b[39m _import_structure = {k: \u001b[38;5;28mset\u001b[39m(v) \u001b[38;5;28;01mfor\u001b[39;00m k, v \u001b[38;5;129;01min\u001b[39;00m _import_structure.items()}\n\u001b[32m--> \u001b[39m\u001b[32m958\u001b[39m import_structure = \u001b[43mdefine_import_structure\u001b[49m\u001b[43m(\u001b[49m\u001b[43mPath\u001b[49m\u001b[43m(\u001b[49m\u001b[34;43m__file__\u001b[39;49m\u001b[43m)\u001b[49m\u001b[43m.\u001b[49m\u001b[43mparent\u001b[49m\u001b[43m \u001b[49m\u001b[43m/\u001b[49m\u001b[43m \u001b[49m\u001b[33;43m\"\u001b[39;49m\u001b[33;43mmodels\u001b[39;49m\u001b[33;43m\"\u001b[39;49m\u001b[43m,\u001b[49m\u001b[43m \u001b[49m\u001b[43mprefix\u001b[49m\u001b[43m=\u001b[49m\u001b[33;43m\"\u001b[39;49m\u001b[33;43mmodels\u001b[39;49m\u001b[33;43m\"\u001b[39;49m\u001b[43m)\u001b[49m\n\u001b[32m    959\u001b[39m import_structure[\u001b[38;5;28mfrozenset\u001b[39m({})].update(_import_structure)\n\u001b[32m    961\u001b[39m sys.modules[\u001b[34m__name__\u001b[39m] = _LazyModule(\n\u001b[32m    962\u001b[39m     \u001b[34m__name__\u001b[39m,\n\u001b[32m    963\u001b[39m     \u001b[38;5;28mglobals\u001b[39m()[\u001b[33m\"\u001b[39m\u001b[33m__file__\u001b[39m\u001b[33m\"\u001b[39m],\n\u001b[32m   (...)\u001b[39m\u001b[32m    966\u001b[39m     extra_objects={\u001b[33m\"\u001b[39m\u001b[33m__version__\u001b[39m\u001b[33m\"\u001b[39m: __version__},\n\u001b[32m    967\u001b[39m )\n",
      "\u001b[36mFile \u001b[39m\u001b[32md:\\ML Projects\\nau-smart-campus-assistant\\.venv\\Lib\\site-packages\\transformers\\utils\\import_utils.py:2867\u001b[39m, in \u001b[36mdefine_import_structure\u001b[39m\u001b[34m(module_path, prefix)\u001b[39m\n\u001b[32m   2843\u001b[39m \u001b[38;5;129m@lru_cache\u001b[39m\n\u001b[32m   2844\u001b[39m \u001b[38;5;28;01mdef\u001b[39;00m\u001b[38;5;250m \u001b[39m\u001b[34mdefine_import_structure\u001b[39m(module_path: \u001b[38;5;28mstr\u001b[39m, prefix: Optional[\u001b[38;5;28mstr\u001b[39m] = \u001b[38;5;28;01mNone\u001b[39;00m) -> IMPORT_STRUCTURE_T:\n\u001b[32m   2845\u001b[39m \u001b[38;5;250m    \u001b[39m\u001b[33;03m\"\"\"\u001b[39;00m\n\u001b[32m   2846\u001b[39m \u001b[33;03m    This method takes a module_path as input and creates an import structure digestible by a _LazyModule.\u001b[39;00m\n\u001b[32m   2847\u001b[39m \n\u001b[32m   (...)\u001b[39m\u001b[32m   2865\u001b[39m \u001b[33;03m    If `prefix` is not None, it will add that prefix to all keys in the returned dict.\u001b[39;00m\n\u001b[32m   2866\u001b[39m \u001b[33;03m    \"\"\"\u001b[39;00m\n\u001b[32m-> \u001b[39m\u001b[32m2867\u001b[39m     import_structure = \u001b[43mcreate_import_structure_from_path\u001b[49m\u001b[43m(\u001b[49m\u001b[43mmodule_path\u001b[49m\u001b[43m)\u001b[49m\n\u001b[32m   2868\u001b[39m     spread_dict = spread_import_structure(import_structure)\n\u001b[32m   2870\u001b[39m     \u001b[38;5;28;01mif\u001b[39;00m prefix \u001b[38;5;129;01mis\u001b[39;00m \u001b[38;5;28;01mNone\u001b[39;00m:\n",
      "\u001b[36mFile \u001b[39m\u001b[32md:\\ML Projects\\nau-smart-campus-assistant\\.venv\\Lib\\site-packages\\transformers\\utils\\import_utils.py:2580\u001b[39m, in \u001b[36mcreate_import_structure_from_path\u001b[39m\u001b[34m(module_path)\u001b[39m\n\u001b[32m   2578\u001b[39m \u001b[38;5;28;01mfor\u001b[39;00m f \u001b[38;5;129;01min\u001b[39;00m os.listdir(module_path):\n\u001b[32m   2579\u001b[39m     \u001b[38;5;28;01mif\u001b[39;00m f != \u001b[33m\"\u001b[39m\u001b[33m__pycache__\u001b[39m\u001b[33m\"\u001b[39m \u001b[38;5;129;01mand\u001b[39;00m os.path.isdir(os.path.join(module_path, f)):\n\u001b[32m-> \u001b[39m\u001b[32m2580\u001b[39m         import_structure[f] = \u001b[43mcreate_import_structure_from_path\u001b[49m\u001b[43m(\u001b[49m\u001b[43mos\u001b[49m\u001b[43m.\u001b[49m\u001b[43mpath\u001b[49m\u001b[43m.\u001b[49m\u001b[43mjoin\u001b[49m\u001b[43m(\u001b[49m\u001b[43mmodule_path\u001b[49m\u001b[43m,\u001b[49m\u001b[43m \u001b[49m\u001b[43mf\u001b[49m\u001b[43m)\u001b[49m\u001b[43m)\u001b[49m\n\u001b[32m   2582\u001b[39m     \u001b[38;5;28;01melif\u001b[39;00m \u001b[38;5;129;01mnot\u001b[39;00m os.path.isdir(os.path.join(directory, f)):\n\u001b[32m   2583\u001b[39m         adjacent_modules.append(f)\n",
      "\u001b[36mFile \u001b[39m\u001b[32md:\\ML Projects\\nau-smart-campus-assistant\\.venv\\Lib\\site-packages\\transformers\\utils\\import_utils.py:2604\u001b[39m, in \u001b[36mcreate_import_structure_from_path\u001b[39m\u001b[34m(module_path)\u001b[39m\n\u001b[32m   2601\u001b[39m \u001b[38;5;28;01mif\u001b[39;00m \u001b[38;5;129;01mnot\u001b[39;00m module_name.endswith(\u001b[33m\"\u001b[39m\u001b[33m.py\u001b[39m\u001b[33m\"\u001b[39m):\n\u001b[32m   2602\u001b[39m     \u001b[38;5;28;01mcontinue\u001b[39;00m\n\u001b[32m-> \u001b[39m\u001b[32m2604\u001b[39m \u001b[38;5;28;01mwith\u001b[39;00m \u001b[38;5;28mopen\u001b[39m(os.path.join(directory, module_name), encoding=\u001b[33m\"\u001b[39m\u001b[33mutf-8\u001b[39m\u001b[33m\"\u001b[39m) \u001b[38;5;28;01mas\u001b[39;00m f:\n\u001b[32m   2605\u001b[39m     file_content = f.read()\n\u001b[32m   2607\u001b[39m \u001b[38;5;66;03m# Remove the .py suffix\u001b[39;00m\n",
      "\u001b[36mFile \u001b[39m\u001b[32m<frozen codecs>:309\u001b[39m, in \u001b[36m__init__\u001b[39m\u001b[34m(self, errors)\u001b[39m\n",
      "\u001b[31mKeyboardInterrupt\u001b[39m: "
     ]
    }
   ],
   "source": [
    "from langchain_classic.document_loaders import WebBaseLoader\n",
    "from langchain_classic.embeddings import SentenceTransformerEmbeddings\n",
    "from langchain_classic.vectorstores import FAISS\n",
    "from gpt4all import GPT4All"
   ]
  },
  {
   "cell_type": "code",
   "execution_count": null,
   "id": "b6c2c7b3",
   "metadata": {},
   "outputs": [],
   "source": []
  }
 ],
 "metadata": {
  "kernelspec": {
   "display_name": ".venv",
   "language": "python",
   "name": "python3"
  },
  "language_info": {
   "codemirror_mode": {
    "name": "ipython",
    "version": 3
   },
   "file_extension": ".py",
   "mimetype": "text/x-python",
   "name": "python",
   "nbconvert_exporter": "python",
   "pygments_lexer": "ipython3",
   "version": "3.11.0"
  }
 },
 "nbformat": 4,
 "nbformat_minor": 5
}
